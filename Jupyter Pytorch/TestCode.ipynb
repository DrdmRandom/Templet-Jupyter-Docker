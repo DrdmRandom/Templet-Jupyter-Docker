{
 "cells": [
  {
   "cell_type": "code",
   "execution_count": 2,
   "id": "8271dd73-461f-47ab-b838-480ce7067cb8",
   "metadata": {},
   "outputs": [
    {
     "name": "stdout",
     "output_type": "stream",
     "text": [
      "Jumlah GPU: 2\n",
      "GPU 0: NVIDIA GeForce GTX 1060 6GB\n",
      "GPU 1: NVIDIA GeForce GTX 970\n"
     ]
    }
   ],
   "source": [
    "import torch\n",
    "\n",
    "# Cek jumlah GPU yang tersedia\n",
    "print(f\"Jumlah GPU: {torch.cuda.device_count()}\")\n",
    "\n",
    "# Cek nama GPU yang terdeteksi\n",
    "for i in range(torch.cuda.device_count()):\n",
    "    print(f\"GPU {i}: {torch.cuda.get_device_name(i)}\")\n"
   ]
  },
  {
   "cell_type": "code",
   "execution_count": 3,
   "id": "20779859-eebd-4125-8f50-bc5d906e93a6",
   "metadata": {},
   "outputs": [
    {
     "name": "stdout",
     "output_type": "stream",
     "text": [
      "2\n"
     ]
    }
   ],
   "source": [
    "import os\n",
    "os.environ[\"CUDA_VISIBLE_DEVICES\"] = \"0,1\"\n",
    "\n",
    "import torch\n",
    "print(torch.cuda.device_count())  # Harusnya muncul 2\n"
   ]
  }
 ],
 "metadata": {
  "kernelspec": {
   "display_name": "Python 3 (ipykernel)",
   "language": "python",
   "name": "python3"
  },
  "language_info": {
   "codemirror_mode": {
    "name": "ipython",
    "version": 3
   },
   "file_extension": ".py",
   "mimetype": "text/x-python",
   "name": "python",
   "nbconvert_exporter": "python",
   "pygments_lexer": "ipython3",
   "version": "3.11.11"
  }
 },
 "nbformat": 4,
 "nbformat_minor": 5
}
