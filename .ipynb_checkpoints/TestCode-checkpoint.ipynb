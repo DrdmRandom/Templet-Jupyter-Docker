{
 "cells": [
  {
   "cell_type": "code",
   "execution_count": null,
   "id": "12200b99-1d2e-493f-bb3d-6734884e48a6",
   "metadata": {},
   "outputs": [],
   "source": [
    "import tensorflow as tf\n",
    "\n",
    "print(\"Versi TensorFlow:\", tf.__version__)\n",
    "print(\"GPU tersedia:\", tf.config.list_physical_devices('GPU'))"
   ]
  },
  {
   "cell_type": "code",
   "execution_count": null,
   "id": "ded6e027-b315-44ef-acb8-7514a658b30e",
   "metadata": {},
   "outputs": [],
   "source": [
    "from tensorflow.python.client import device_lib\n",
    "print(device_lib.list_local_devices())"
   ]
  },
  {
   "cell_type": "code",
   "execution_count": null,
   "id": "20de745b-4ea2-4442-9d8c-95fcc429b01e",
   "metadata": {},
   "outputs": [],
   "source": [
    "import tensorflow as tf\n",
    "import timeit\n",
    "\n",
    "# Operasi sederhana di CPU\n",
    "cpu = tf.config.experimental.list_physical_devices('CPU')[0]\n",
    "with tf.device('/CPU:0'):\n",
    "    cpu_tensor = tf.random.normal([1000, 1000])\n",
    "    cpu_op = lambda: tf.matmul(cpu_tensor, cpu_tensor)\n",
    "\n",
    "# Operasi yang sama di GPU (jika tersedia)\n",
    "gpu_devices = tf.config.experimental.list_physical_devices('GPU')\n",
    "if gpu_devices:\n",
    "    with tf.device('/GPU:0'):\n",
    "        gpu_tensor = tf.random.normal([1000, 1000])\n",
    "        gpu_op = lambda: tf.matmul(gpu_tensor, gpu_tensor)\n",
    "\n",
    "    # Benchmark CPU vs GPU\n",
    "    print(\"CPU Time:\", timeit.timeit(cpu_op, number=10))\n",
    "    print(\"GPU Time:\", timeit.timeit(gpu_op, number=10))\n",
    "else:\n",
    "    print(\"GPU tidak terdeteksi atau tidak digunakan oleh TensorFlow.\")\n"
   ]
  },
  {
   "cell_type": "code",
   "execution_count": null,
   "id": "14b1649f-74c8-413e-a1ea-90928cab3fc5",
   "metadata": {},
   "outputs": [],
   "source": []
  }
 ],
 "metadata": {
  "kernelspec": {
   "display_name": "Python 3 (ipykernel)",
   "language": "python",
   "name": "python3"
  },
  "language_info": {
   "codemirror_mode": {
    "name": "ipython",
    "version": 3
   },
   "file_extension": ".py",
   "mimetype": "text/x-python",
   "name": "python",
   "nbconvert_exporter": "python",
   "pygments_lexer": "ipython3",
   "version": "3.11.0rc1"
  }
 },
 "nbformat": 4,
 "nbformat_minor": 5
}
